{
 "cells": [
  {
   "cell_type": "code",
   "execution_count": 1,
   "id": "cd09edbc",
   "metadata": {},
   "outputs": [
    {
     "ename": "NameError",
     "evalue": "name 'hazm' is not defined",
     "output_type": "error",
     "traceback": [
      "\u001b[1;31m---------------------------------------------------------------------------\u001b[0m",
      "\u001b[1;31mNameError\u001b[0m                                 Traceback (most recent call last)",
      "\u001b[1;32mc:\\Users\\sedwna\\Desktop\\AI_Conversation\\src\\embedding_data.ipynb Cell 2\u001b[0m line \u001b[0;36m1\n\u001b[1;32m----> <a href='vscode-notebook-cell:/c%3A/Users/sedwna/Desktop/AI_Conversation/src/embedding_data.ipynb#W1sZmlsZQ%3D%3D?line=0'>1</a>\u001b[0m wordEmbedding \u001b[39m=\u001b[39m hazm\u001b[39m.\u001b[39mWordEmbedding(model_type\u001b[39m=\u001b[39m\u001b[39m'\u001b[39m\u001b[39mfasttext\u001b[39m\u001b[39m'\u001b[39m)\n\u001b[0;32m      <a href='vscode-notebook-cell:/c%3A/Users/sedwna/Desktop/AI_Conversation/src/embedding_data.ipynb#W1sZmlsZQ%3D%3D?line=1'>2</a>\u001b[0m wordEmbedding\u001b[39m.\u001b[39mload_model(\u001b[39m'\u001b[39m\u001b[39mfasttext_skipgram_300.bin\u001b[39m\u001b[39m'\u001b[39m)\n",
      "\u001b[1;31mNameError\u001b[0m: name 'hazm' is not defined"
     ]
    }
   ],
   "source": [
    "import hazm\n",
    "wordEmbedding = hazm.WordEmbedding(model_type='fasttext')\n",
    "wordEmbedding.load_model('fasttext_skipgram_300.bin')"
   ]
  },
  {
   "cell_type": "code",
   "execution_count": 2,
   "id": "0cac69ab",
   "metadata": {},
   "outputs": [],
   "source": [
    "import hazm\n",
    "import pandas as pd\n",
    "import json\n",
    "import nlp"
   ]
  },
  {
   "cell_type": "code",
   "execution_count": 3,
   "id": "29e1d126",
   "metadata": {
    "code_folding": []
   },
   "outputs": [
    {
     "name": "stdout",
     "output_type": "stream",
     "text": [
      "pls wait until training completed...\n",
      "normalize:  ['سلام']\n",
      "normalize:  ['سلام', 'مشکل', 'پیش', 'آمد#آ', 'برایم']\n",
      "normalize:  ['سلام', 'وقت', 'شما', 'بخیر']\n",
      "normalize:  ['خیر', 'امروز', 'جهت', 'ارسال', 'باید', 'به', 'پست', 'تحویل', 'داد#ده', 'که', 'مشکل', 'داشت', 'توانست#توان', 'تحویل', 'بد']\n",
      "normalize:  ['ممنون', 'خدانگهدار']\n",
      "normalize:  ['خدانگهدار']\n",
      "normalize:  ['تشکر', 'خداحافظ']\n",
      "normalize:  ['شما', 'آقا']\n",
      "normalize:  ['شما', 'کدام', 'پشتیبان', '#هست']\n",
      "normalize:  ['شما', 'کی', '#هست']\n",
      "normalize:  ['ساعت', 'پشتیبان', 'به', 'چه', 'صورته است']\n",
      "normalize:  ['چه', 'ساعت', 'هایی', 'پاسخگو', '#هست']\n",
      "normalize:  ['چه', 'زمان', 'هایی', 'توانست#توان', 'از', 'شما', 'سوال', 'پرسید#پرس']\n"
     ]
    }
   ],
   "source": [
    "print(\"pls wait until training completed...\")\n",
    "json_file = open(f\"../json_file/intents.json\", 'r',\n",
    "                     encoding=\"utf8\")\n",
    "\n",
    "intents = json.load(json_file)\n",
    "json_file.close()\n",
    "\n",
    "words = []\n",
    "classes = []\n",
    "documents = []\n",
    "\n",
    "for intent in intents['intents']:\n",
    "    for pattern in intent[\"patterns\"]:\n",
    "        word_list = nlp.clean_up_sentence(pattern)\n",
    "        words.extend(word_list)\n",
    "        documents.append((word_list, intent[\"tag\"]))\n",
    "        if intent[\"tag\"] not in classes:\n",
    "            classes.append(intent['tag'])\n",
    "\n",
    "words = sorted(set(words))\n",
    "classes = sorted(set(classes))\n",
    "   "
   ]
  },
  {
   "cell_type": "code",
   "execution_count": 4,
   "id": "9704f839",
   "metadata": {},
   "outputs": [
    {
     "data": {
      "text/plain": [
       "['#هست',\n",
       " 'آقا',\n",
       " 'آمد#آ',\n",
       " 'ارسال',\n",
       " 'از',\n",
       " 'امروز',\n",
       " 'باید',\n",
       " 'بخیر',\n",
       " 'بد',\n",
       " 'برایم',\n",
       " 'به',\n",
       " 'تحویل',\n",
       " 'تشکر',\n",
       " 'توانست#توان',\n",
       " 'جهت',\n",
       " 'خداحافظ',\n",
       " 'خدانگهدار',\n",
       " 'خیر',\n",
       " 'داد#ده',\n",
       " 'داشت',\n",
       " 'زمان',\n",
       " 'ساعت',\n",
       " 'سلام',\n",
       " 'سوال',\n",
       " 'شما',\n",
       " 'صورته است',\n",
       " 'مشکل',\n",
       " 'ممنون',\n",
       " 'هایی',\n",
       " 'وقت',\n",
       " 'پاسخگو',\n",
       " 'پرسید#پرس',\n",
       " 'پست',\n",
       " 'پشتیبان',\n",
       " 'پیش',\n",
       " 'چه',\n",
       " 'کدام',\n",
       " 'که',\n",
       " 'کی']"
      ]
     },
     "execution_count": 4,
     "metadata": {},
     "output_type": "execute_result"
    }
   ],
   "source": [
    "words"
   ]
  },
  {
   "cell_type": "markdown",
   "id": "0b0e0b62",
   "metadata": {},
   "source": [
    "df"
   ]
  },
  {
   "cell_type": "code",
   "execution_count": 5,
   "id": "699462aa",
   "metadata": {},
   "outputs": [
    {
     "data": {
      "text/plain": [
       "['اسم و فامیل', 'خداحافظی', 'خوش آمدگویی', 'ساعت کاری']"
      ]
     },
     "execution_count": 5,
     "metadata": {},
     "output_type": "execute_result"
    }
   ],
   "source": [
    "classes"
   ]
  },
  {
   "cell_type": "code",
   "execution_count": 6,
   "id": "2a284175",
   "metadata": {},
   "outputs": [],
   "source": [
    "from tensorflow.keras.preprocessing.text import Tokenizer"
   ]
  },
  {
   "cell_type": "code",
   "execution_count": 7,
   "id": "e2ea2b24",
   "metadata": {},
   "outputs": [
    {
     "data": {
      "text/plain": [
       "[[2],\n",
       " [2, 5, 13, 14, 15],\n",
       " [2, 16, 1, 17],\n",
       " [18, 19, 20, 21, 22, 6, 23, 7, 24, 25, 5, 26, 8, 7, 27],\n",
       " [28, 9],\n",
       " [9],\n",
       " [29, 30],\n",
       " [1, 31],\n",
       " [1, 32, 10, 3],\n",
       " [1, 33, 3],\n",
       " [11, 10, 6, 4, 34],\n",
       " [4, 11, 12, 35, 3],\n",
       " [4, 36, 12, 8, 37, 1, 38]]"
      ]
     },
     "execution_count": 7,
     "metadata": {},
     "output_type": "execute_result"
    }
   ],
   "source": [
    "from tensorflow.keras.preprocessing.text import Tokenizer\n",
    "max_words = len(words)\n",
    "tkn = Tokenizer(num_words=max_words)\n",
    "tkn.fit_on_texts(intent[0] for intent in documents)\n",
    "seq = tkn.texts_to_sequences(intent[0] for intent in documents)\n",
    "seq"
   ]
  },
  {
   "cell_type": "code",
   "execution_count": 8,
   "id": "bcb660b2",
   "metadata": {},
   "outputs": [
    {
     "name": "stdout",
     "output_type": "stream",
     "text": [
      "['خوش آمدگویی', 'خوش آمدگویی', 'خوش آمدگویی', 'خوش آمدگویی', 'خداحافظی', 'خداحافظی', 'خداحافظی', 'اسم و فامیل', 'اسم و فامیل', 'اسم و فامیل', 'ساعت کاری', 'ساعت کاری', 'ساعت کاری']\n",
      "[[2], [2], [2], [2], [1], [1], [1], [0], [0], [0], [3], [3], [3]]\n",
      "[[2]\n",
      " [2]\n",
      " [2]\n",
      " [2]\n",
      " [1]\n",
      " [1]\n",
      " [1]\n",
      " [0]\n",
      " [0]\n",
      " [0]\n",
      " [3]\n",
      " [3]\n",
      " [3]]\n"
     ]
    }
   ],
   "source": [
    "import numpy as np\n",
    "train_y = [intent[1] for intent in documents]\n",
    "print(train_y)\n",
    "\n",
    "\n",
    "d = dict(zip(classes, range(0, len(classes))))\n",
    "train_y = [[d[word]] for word in train_y]\n",
    "train_y = list(train_y)\n",
    "print(train_y)\n",
    "train_y = np.array(train_y)\n",
    "print(train_y)"
   ]
  },
  {
   "cell_type": "code",
   "execution_count": 9,
   "id": "d59ae530",
   "metadata": {},
   "outputs": [],
   "source": [
    "from tensorflow.keras.preprocessing.sequence import pad_sequences"
   ]
  },
  {
   "cell_type": "code",
   "execution_count": 10,
   "id": "5f6a13e1",
   "metadata": {},
   "outputs": [
    {
     "name": "stdout",
     "output_type": "stream",
     "text": [
      "[[ 0  0  0  0  0  0  0  0  0  0  0  0  0  0  0  0  0  0  0  2]\n",
      " [ 0  0  0  0  0  0  0  0  0  0  0  0  0  0  0  2  5 13 14 15]\n",
      " [ 0  0  0  0  0  0  0  0  0  0  0  0  0  0  0  0  2 16  1 17]\n",
      " [ 0  0  0  0  0 18 19 20 21 22  6 23  7 24 25  5 26  8  7 27]\n",
      " [ 0  0  0  0  0  0  0  0  0  0  0  0  0  0  0  0  0  0 28  9]\n",
      " [ 0  0  0  0  0  0  0  0  0  0  0  0  0  0  0  0  0  0  0  9]\n",
      " [ 0  0  0  0  0  0  0  0  0  0  0  0  0  0  0  0  0  0 29 30]\n",
      " [ 0  0  0  0  0  0  0  0  0  0  0  0  0  0  0  0  0  0  1 31]\n",
      " [ 0  0  0  0  0  0  0  0  0  0  0  0  0  0  0  0  1 32 10  3]\n",
      " [ 0  0  0  0  0  0  0  0  0  0  0  0  0  0  0  0  0  1 33  3]\n",
      " [ 0  0  0  0  0  0  0  0  0  0  0  0  0  0  0 11 10  6  4 34]\n",
      " [ 0  0  0  0  0  0  0  0  0  0  0  0  0  0  0  4 11 12 35  3]\n",
      " [ 0  0  0  0  0  0  0  0  0  0  0  0  0  4 36 12  8 37  1 38]]\n"
     ]
    }
   ],
   "source": [
    "max_len = 20\n",
    "paded_docs = pad_sequences(seq,maxlen=max_len,padding=\"pre\")\n",
    "# paded_docs = list(paded_docs) #x_train\n",
    "\n",
    "\n",
    "# print(train_x)\n",
    "# paded_docs = np.array(paded_docs)\n",
    "print(paded_docs)"
   ]
  },
  {
   "cell_type": "code",
   "execution_count": 11,
   "id": "bca290bd",
   "metadata": {},
   "outputs": [],
   "source": [
    "from tensorflow.keras.models import Sequential\n",
    "from tensorflow import keras\n",
    "from keras.layers import Dense\n",
    "from keras.models import Sequential, load_model\n",
    "from tensorflow.keras.layers import LSTM,Activation,Dense, Dropout ,Input, Embedding"
   ]
  },
  {
   "cell_type": "code",
   "execution_count": 12,
   "id": "24f0d11e",
   "metadata": {},
   "outputs": [
    {
     "name": "stdout",
     "output_type": "stream",
     "text": [
      "Model: \"sequential\"\n",
      "_________________________________________________________________\n",
      " Layer (type)                Output Shape              Param #   \n",
      "=================================================================\n",
      " embedding (Embedding)       (None, 20, 30)            1170      \n",
      "                                                                 \n",
      " lstm (LSTM)                 (None, 256)               293888    \n",
      "                                                                 \n",
      " dense (Dense)               (None, 4)                 1028      \n",
      "                                                                 \n",
      "=================================================================\n",
      "Total params: 296,086\n",
      "Trainable params: 296,086\n",
      "Non-trainable params: 0\n",
      "_________________________________________________________________\n"
     ]
    }
   ],
   "source": [
    "embedding_vector_features = 30\n",
    "model = Sequential()\n",
    "model.add(Embedding(max_words,embedding_vector_features,input_length=max_len))\n",
    "model.add(LSTM(256))\n",
    "model.add(Dense(len(classes), activation='softmax'))\n",
    "model.compile(optimizer='adam',loss='categorical_crossentropy', metrics=['accuracy'])\n",
    "model.summary()"
   ]
  },
  {
   "cell_type": "code",
   "execution_count": 16,
   "id": "45a3e90d",
   "metadata": {},
   "outputs": [
    {
     "name": "stdout",
     "output_type": "stream",
     "text": [
      "[[2]\n",
      " [2]\n",
      " [2]\n",
      " [2]\n",
      " [1]\n",
      " [1]\n",
      " [1]\n",
      " [0]\n",
      " [0]\n",
      " [0]\n",
      " [3]\n",
      " [3]\n",
      " [3]]\n",
      "[[ 0  0  0  0  0  0  0  0  0  0  0  0  0  0  0  0  0  0  0  2]\n",
      " [ 0  0  0  0  0  0  0  0  0  0  0  0  0  0  0  2  5 13 14 15]\n",
      " [ 0  0  0  0  0  0  0  0  0  0  0  0  0  0  0  0  2 16  1 17]\n",
      " [ 0  0  0  0  0 18 19 20 21 22  6 23  7 24 25  5 26  8  7 27]\n",
      " [ 0  0  0  0  0  0  0  0  0  0  0  0  0  0  0  0  0  0 28  9]\n",
      " [ 0  0  0  0  0  0  0  0  0  0  0  0  0  0  0  0  0  0  0  9]\n",
      " [ 0  0  0  0  0  0  0  0  0  0  0  0  0  0  0  0  0  0 29 30]\n",
      " [ 0  0  0  0  0  0  0  0  0  0  0  0  0  0  0  0  0  0  1 31]\n",
      " [ 0  0  0  0  0  0  0  0  0  0  0  0  0  0  0  0  1 32 10  3]\n",
      " [ 0  0  0  0  0  0  0  0  0  0  0  0  0  0  0  0  0  1 33  3]\n",
      " [ 0  0  0  0  0  0  0  0  0  0  0  0  0  0  0 11 10  6  4 34]\n",
      " [ 0  0  0  0  0  0  0  0  0  0  0  0  0  0  0  4 11 12 35  3]\n",
      " [ 0  0  0  0  0  0  0  0  0  0  0  0  0  4 36 12  8 37  1 38]]\n",
      "Epoch 1/10\n"
     ]
    },
    {
     "ename": "ValueError",
     "evalue": "in user code:\n\n    File \"c:\\Users\\sedwna\\.conda\\envs\\conversation_AI\\lib\\site-packages\\keras\\engine\\training.py\", line 1160, in train_function  *\n        return step_function(self, iterator)\n    File \"c:\\Users\\sedwna\\.conda\\envs\\conversation_AI\\lib\\site-packages\\keras\\engine\\training.py\", line 1146, in step_function  **\n        outputs = model.distribute_strategy.run(run_step, args=(data,))\n    File \"c:\\Users\\sedwna\\.conda\\envs\\conversation_AI\\lib\\site-packages\\keras\\engine\\training.py\", line 1135, in run_step  **\n        outputs = model.train_step(data)\n    File \"c:\\Users\\sedwna\\.conda\\envs\\conversation_AI\\lib\\site-packages\\keras\\engine\\training.py\", line 994, in train_step\n        loss = self.compute_loss(x, y, y_pred, sample_weight)\n    File \"c:\\Users\\sedwna\\.conda\\envs\\conversation_AI\\lib\\site-packages\\keras\\engine\\training.py\", line 1052, in compute_loss\n        return self.compiled_loss(\n    File \"c:\\Users\\sedwna\\.conda\\envs\\conversation_AI\\lib\\site-packages\\keras\\engine\\compile_utils.py\", line 265, in __call__\n        loss_value = loss_obj(y_t, y_p, sample_weight=sw)\n    File \"c:\\Users\\sedwna\\.conda\\envs\\conversation_AI\\lib\\site-packages\\keras\\losses.py\", line 152, in __call__\n        losses = call_fn(y_true, y_pred)\n    File \"c:\\Users\\sedwna\\.conda\\envs\\conversation_AI\\lib\\site-packages\\keras\\losses.py\", line 272, in call  **\n        return ag_fn(y_true, y_pred, **self._fn_kwargs)\n    File \"c:\\Users\\sedwna\\.conda\\envs\\conversation_AI\\lib\\site-packages\\keras\\losses.py\", line 1990, in categorical_crossentropy\n        return backend.categorical_crossentropy(\n    File \"c:\\Users\\sedwna\\.conda\\envs\\conversation_AI\\lib\\site-packages\\keras\\backend.py\", line 5529, in categorical_crossentropy\n        target.shape.assert_is_compatible_with(output.shape)\n\n    ValueError: Shapes (None, 1) and (None, 4) are incompatible\n",
     "output_type": "error",
     "traceback": [
      "\u001b[1;31m---------------------------------------------------------------------------\u001b[0m",
      "\u001b[1;31mValueError\u001b[0m                                Traceback (most recent call last)",
      "\u001b[1;32mc:\\Users\\sedwna\\Desktop\\AI_Conversation\\src\\embedding_data.ipynb Cell 14\u001b[0m line \u001b[0;36m3\n\u001b[0;32m      <a href='vscode-notebook-cell:/c%3A/Users/sedwna/Desktop/AI_Conversation/src/embedding_data.ipynb#X20sZmlsZQ%3D%3D?line=0'>1</a>\u001b[0m \u001b[39mprint\u001b[39m(train_y)\n\u001b[0;32m      <a href='vscode-notebook-cell:/c%3A/Users/sedwna/Desktop/AI_Conversation/src/embedding_data.ipynb#X20sZmlsZQ%3D%3D?line=1'>2</a>\u001b[0m \u001b[39mprint\u001b[39m(paded_docs)\n\u001b[1;32m----> <a href='vscode-notebook-cell:/c%3A/Users/sedwna/Desktop/AI_Conversation/src/embedding_data.ipynb#X20sZmlsZQ%3D%3D?line=2'>3</a>\u001b[0m model\u001b[39m.\u001b[39;49mfit(paded_docs,train_y,batch_size\u001b[39m=\u001b[39;49m\u001b[39m128\u001b[39;49m,epochs\u001b[39m=\u001b[39;49m\u001b[39m10\u001b[39;49m)\n",
      "File \u001b[1;32mc:\\Users\\sedwna\\.conda\\envs\\conversation_AI\\lib\\site-packages\\keras\\utils\\traceback_utils.py:70\u001b[0m, in \u001b[0;36mfilter_traceback.<locals>.error_handler\u001b[1;34m(*args, **kwargs)\u001b[0m\n\u001b[0;32m     67\u001b[0m     filtered_tb \u001b[39m=\u001b[39m _process_traceback_frames(e\u001b[39m.\u001b[39m__traceback__)\n\u001b[0;32m     68\u001b[0m     \u001b[39m# To get the full stack trace, call:\u001b[39;00m\n\u001b[0;32m     69\u001b[0m     \u001b[39m# `tf.debugging.disable_traceback_filtering()`\u001b[39;00m\n\u001b[1;32m---> 70\u001b[0m     \u001b[39mraise\u001b[39;00m e\u001b[39m.\u001b[39mwith_traceback(filtered_tb) \u001b[39mfrom\u001b[39;00m \u001b[39mNone\u001b[39;00m\n\u001b[0;32m     71\u001b[0m \u001b[39mfinally\u001b[39;00m:\n\u001b[0;32m     72\u001b[0m     \u001b[39mdel\u001b[39;00m filtered_tb\n",
      "File \u001b[1;32m~\\AppData\\Local\\Temp\\__autograph_generated_file9v992k35.py:15\u001b[0m, in \u001b[0;36mouter_factory.<locals>.inner_factory.<locals>.tf__train_function\u001b[1;34m(iterator)\u001b[0m\n\u001b[0;32m     13\u001b[0m \u001b[39mtry\u001b[39;00m:\n\u001b[0;32m     14\u001b[0m     do_return \u001b[39m=\u001b[39m \u001b[39mTrue\u001b[39;00m\n\u001b[1;32m---> 15\u001b[0m     retval_ \u001b[39m=\u001b[39m ag__\u001b[39m.\u001b[39mconverted_call(ag__\u001b[39m.\u001b[39mld(step_function), (ag__\u001b[39m.\u001b[39mld(\u001b[39mself\u001b[39m), ag__\u001b[39m.\u001b[39mld(iterator)), \u001b[39mNone\u001b[39;00m, fscope)\n\u001b[0;32m     16\u001b[0m \u001b[39mexcept\u001b[39;00m:\n\u001b[0;32m     17\u001b[0m     do_return \u001b[39m=\u001b[39m \u001b[39mFalse\u001b[39;00m\n",
      "\u001b[1;31mValueError\u001b[0m: in user code:\n\n    File \"c:\\Users\\sedwna\\.conda\\envs\\conversation_AI\\lib\\site-packages\\keras\\engine\\training.py\", line 1160, in train_function  *\n        return step_function(self, iterator)\n    File \"c:\\Users\\sedwna\\.conda\\envs\\conversation_AI\\lib\\site-packages\\keras\\engine\\training.py\", line 1146, in step_function  **\n        outputs = model.distribute_strategy.run(run_step, args=(data,))\n    File \"c:\\Users\\sedwna\\.conda\\envs\\conversation_AI\\lib\\site-packages\\keras\\engine\\training.py\", line 1135, in run_step  **\n        outputs = model.train_step(data)\n    File \"c:\\Users\\sedwna\\.conda\\envs\\conversation_AI\\lib\\site-packages\\keras\\engine\\training.py\", line 994, in train_step\n        loss = self.compute_loss(x, y, y_pred, sample_weight)\n    File \"c:\\Users\\sedwna\\.conda\\envs\\conversation_AI\\lib\\site-packages\\keras\\engine\\training.py\", line 1052, in compute_loss\n        return self.compiled_loss(\n    File \"c:\\Users\\sedwna\\.conda\\envs\\conversation_AI\\lib\\site-packages\\keras\\engine\\compile_utils.py\", line 265, in __call__\n        loss_value = loss_obj(y_t, y_p, sample_weight=sw)\n    File \"c:\\Users\\sedwna\\.conda\\envs\\conversation_AI\\lib\\site-packages\\keras\\losses.py\", line 152, in __call__\n        losses = call_fn(y_true, y_pred)\n    File \"c:\\Users\\sedwna\\.conda\\envs\\conversation_AI\\lib\\site-packages\\keras\\losses.py\", line 272, in call  **\n        return ag_fn(y_true, y_pred, **self._fn_kwargs)\n    File \"c:\\Users\\sedwna\\.conda\\envs\\conversation_AI\\lib\\site-packages\\keras\\losses.py\", line 1990, in categorical_crossentropy\n        return backend.categorical_crossentropy(\n    File \"c:\\Users\\sedwna\\.conda\\envs\\conversation_AI\\lib\\site-packages\\keras\\backend.py\", line 5529, in categorical_crossentropy\n        target.shape.assert_is_compatible_with(output.shape)\n\n    ValueError: Shapes (None, 1) and (None, 4) are incompatible\n"
     ]
    }
   ],
   "source": [
    "print(train_y)\n",
    "print(paded_docs)\n",
    "model.fit(paded_docs,train_y,batch_size=128,epochs=10)"
   ]
  }
 ],
 "metadata": {
  "kernelspec": {
   "display_name": "Python 3 (ipykernel)",
   "language": "python",
   "name": "python3"
  },
  "language_info": {
   "codemirror_mode": {
    "name": "ipython",
    "version": 3
   },
   "file_extension": ".py",
   "mimetype": "text/x-python",
   "name": "python",
   "nbconvert_exporter": "python",
   "pygments_lexer": "ipython3",
   "version": "3.8.17"
  }
 },
 "nbformat": 4,
 "nbformat_minor": 5
}
